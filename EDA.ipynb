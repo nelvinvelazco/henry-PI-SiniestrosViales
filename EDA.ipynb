{
 "cells": [
  {
   "cell_type": "code",
   "execution_count": 1,
   "metadata": {},
   "outputs": [],
   "source": [
    "import pandas as pd     # Se carga la Libreria de pandas\n",
    "import numpy as np\n",
    "import seaborn as sns\n",
    "import matplotlib.pyplot as plt\n",
    "sns.set(style=\"darkgrid\")\n",
    "import requests"
   ]
  },
  {
   "cell_type": "code",
   "execution_count": 172,
   "metadata": {},
   "outputs": [],
   "source": [
    "df_homicidios= pd.read_excel('data/homicidios.xlsx', sheet_name=None)"
   ]
  },
  {
   "cell_type": "code",
   "execution_count": 173,
   "metadata": {},
   "outputs": [
    {
     "data": {
      "text/plain": [
       "dict_keys(['HECHOS', 'DICCIONARIO_HECHOS', 'VICTIMAS', 'DICCIONARIO_VICTIMAS', 'clas'])"
      ]
     },
     "execution_count": 173,
     "metadata": {},
     "output_type": "execute_result"
    }
   ],
   "source": [
    "df_homicidios.keys()"
   ]
  },
  {
   "cell_type": "code",
   "execution_count": 174,
   "metadata": {},
   "outputs": [],
   "source": [
    "df_hechos_homicidios= df_homicidios['HECHOS']\n",
    "df_victimas_homicidios= df_homicidios['VICTIMAS']"
   ]
  },
  {
   "cell_type": "code",
   "execution_count": 175,
   "metadata": {},
   "outputs": [
    {
     "data": {
      "text/plain": [
       "ID                         0\n",
       "N_VICTIMAS                 0\n",
       "FECHA                      0\n",
       "AAAA                       0\n",
       "MM                         0\n",
       "DD                         0\n",
       "HORA                       0\n",
       "HH                         0\n",
       "LUGAR_DEL_HECHO            0\n",
       "TIPO_DE_CALLE              0\n",
       "Calle                      1\n",
       "Altura                   567\n",
       "Cruce                    171\n",
       "Dirección Normalizada      8\n",
       "COMUNA                     0\n",
       "XY (CABA)                  0\n",
       "pos x                      0\n",
       "pos y                      0\n",
       "PARTICIPANTES              0\n",
       "VICTIMA                    0\n",
       "ACUSADO                    0\n",
       "dtype: int64"
      ]
     },
     "execution_count": 175,
     "metadata": {},
     "output_type": "execute_result"
    }
   ],
   "source": [
    "df_hechos_homicidios.isna().sum()"
   ]
  },
  {
   "cell_type": "markdown",
   "metadata": {},
   "source": [
    "Se cuentas los valores nulos de las columnas y se puede ser que Altura tiene 567 datos nulos y Cruce tiene 171 datos nulos. Analizando los primeros registros del dataset, se puede ver que 'Cruce' tiene los mismos valores que las 'direccion normalizada' y 'lugar_del_hecho' por lo tanto se eliminara 'Cruce', 'direccion normalizada'. La columna altura no es relevante para este analisis por lo tanto tambien se eliminara."
   ]
  },
  {
   "cell_type": "code",
   "execution_count": 176,
   "metadata": {},
   "outputs": [],
   "source": [
    "df_hechos_homicidios= df_hechos_homicidios.drop(['Dirección Normalizada','Altura','Cruce'], axis=1) # Eliminar columnas innecesarias"
   ]
  },
  {
   "cell_type": "code",
   "execution_count": 177,
   "metadata": {},
   "outputs": [
    {
     "data": {
      "text/html": [
       "<div>\n",
       "<style scoped>\n",
       "    .dataframe tbody tr th:only-of-type {\n",
       "        vertical-align: middle;\n",
       "    }\n",
       "\n",
       "    .dataframe tbody tr th {\n",
       "        vertical-align: top;\n",
       "    }\n",
       "\n",
       "    .dataframe thead th {\n",
       "        text-align: right;\n",
       "    }\n",
       "</style>\n",
       "<table border=\"1\" class=\"dataframe\">\n",
       "  <thead>\n",
       "    <tr style=\"text-align: right;\">\n",
       "      <th></th>\n",
       "      <th>ID</th>\n",
       "      <th>N_VICTIMAS</th>\n",
       "      <th>FECHA</th>\n",
       "      <th>AAAA</th>\n",
       "      <th>MM</th>\n",
       "      <th>DD</th>\n",
       "      <th>HORA</th>\n",
       "      <th>HH</th>\n",
       "      <th>LUGAR_DEL_HECHO</th>\n",
       "      <th>TIPO_DE_CALLE</th>\n",
       "      <th>Calle</th>\n",
       "      <th>COMUNA</th>\n",
       "      <th>XY (CABA)</th>\n",
       "      <th>pos x</th>\n",
       "      <th>pos y</th>\n",
       "      <th>PARTICIPANTES</th>\n",
       "      <th>VICTIMA</th>\n",
       "      <th>ACUSADO</th>\n",
       "    </tr>\n",
       "  </thead>\n",
       "  <tbody>\n",
       "    <tr>\n",
       "      <th>119</th>\n",
       "      <td>2016-0151</td>\n",
       "      <td>1</td>\n",
       "      <td>2016-11-18</td>\n",
       "      <td>2016</td>\n",
       "      <td>11</td>\n",
       "      <td>18</td>\n",
       "      <td>20:35:00</td>\n",
       "      <td>20</td>\n",
       "      <td>SD</td>\n",
       "      <td>CALLE</td>\n",
       "      <td>NaN</td>\n",
       "      <td>0</td>\n",
       "      <td>Point (. .)</td>\n",
       "      <td>.</td>\n",
       "      <td>.</td>\n",
       "      <td>PEATON-SD</td>\n",
       "      <td>PEATON</td>\n",
       "      <td>SD</td>\n",
       "    </tr>\n",
       "  </tbody>\n",
       "</table>\n",
       "</div>"
      ],
      "text/plain": [
       "            ID  N_VICTIMAS      FECHA  AAAA  MM  DD      HORA  HH  \\\n",
       "119  2016-0151           1 2016-11-18  2016  11  18  20:35:00  20   \n",
       "\n",
       "    LUGAR_DEL_HECHO TIPO_DE_CALLE Calle  COMUNA    XY (CABA) pos x pos y  \\\n",
       "119              SD         CALLE   NaN       0  Point (. .)     .     .   \n",
       "\n",
       "    PARTICIPANTES VICTIMA ACUSADO  \n",
       "119     PEATON-SD  PEATON      SD  "
      ]
     },
     "execution_count": 177,
     "metadata": {},
     "output_type": "execute_result"
    }
   ],
   "source": [
    "df_hechos_homicidios[df_hechos_homicidios['Calle'].isna()]"
   ]
  },
  {
   "cell_type": "markdown",
   "metadata": {},
   "source": [
    "Se visualiza la unica fila de la columna 'calle' que es nulo y se puede ver que no tienes datos de direccion ni posicion, por lo tanto se eliminara"
   ]
  },
  {
   "cell_type": "code",
   "execution_count": 178,
   "metadata": {},
   "outputs": [],
   "source": [
    "df_hechos_homicidios= df_hechos_homicidios.dropna(subset=['Calle']) # Elimina filas con app_name nulo"
   ]
  },
  {
   "cell_type": "code",
   "execution_count": 179,
   "metadata": {},
   "outputs": [
    {
     "data": {
      "text/plain": [
       "0"
      ]
     },
     "execution_count": 179,
     "metadata": {},
     "output_type": "execute_result"
    }
   ],
   "source": [
    "df_hechos_homicidios.duplicated().sum()     # Se cuentan las filas duplicadas"
   ]
  },
  {
   "cell_type": "code",
   "execution_count": 180,
   "metadata": {},
   "outputs": [
    {
     "name": "stdout",
     "output_type": "stream",
     "text": [
      "<class 'pandas.core.frame.DataFrame'>\n",
      "Index: 695 entries, 0 to 695\n",
      "Data columns (total 18 columns):\n",
      " #   Column           Non-Null Count  Dtype         \n",
      "---  ------           --------------  -----         \n",
      " 0   ID               695 non-null    object        \n",
      " 1   N_VICTIMAS       695 non-null    int64         \n",
      " 2   FECHA            695 non-null    datetime64[ns]\n",
      " 3   AAAA             695 non-null    int64         \n",
      " 4   MM               695 non-null    int64         \n",
      " 5   DD               695 non-null    int64         \n",
      " 6   HORA             695 non-null    object        \n",
      " 7   HH               695 non-null    object        \n",
      " 8   LUGAR_DEL_HECHO  695 non-null    object        \n",
      " 9   TIPO_DE_CALLE    695 non-null    object        \n",
      " 10  Calle            695 non-null    object        \n",
      " 11  COMUNA           695 non-null    int64         \n",
      " 12  XY (CABA)        695 non-null    object        \n",
      " 13  pos x            695 non-null    object        \n",
      " 14  pos y            695 non-null    object        \n",
      " 15  PARTICIPANTES    695 non-null    object        \n",
      " 16  VICTIMA          695 non-null    object        \n",
      " 17  ACUSADO          695 non-null    object        \n",
      "dtypes: datetime64[ns](1), int64(5), object(12)\n",
      "memory usage: 103.2+ KB\n"
     ]
    }
   ],
   "source": [
    "df_hechos_homicidios.info()"
   ]
  },
  {
   "cell_type": "code",
   "execution_count": 181,
   "metadata": {},
   "outputs": [
    {
     "data": {
      "text/plain": [
       "pos x\n",
       ".               11\n",
       "-58.44451316     5\n",
       "-58.50073810     4\n",
       "-58.46743471     4\n",
       "-58.50877521     4\n",
       "                ..\n",
       "-58.39100580     1\n",
       "-58.37697717     1\n",
       "-58.45807401     1\n",
       "-58.42023854     1\n",
       "-58.37976155     1\n",
       "Name: count, Length: 605, dtype: int64"
      ]
     },
     "execution_count": 181,
     "metadata": {},
     "output_type": "execute_result"
    }
   ],
   "source": [
    "df_hechos_homicidios['pos x'].value_counts() # Contar los valores"
   ]
  },
  {
   "cell_type": "markdown",
   "metadata": {},
   "source": [
    "Haciendo un conteo de valores se puede observar que tiene 11 valores con \".\" por lo tanto procederemos a eliminar estos registros"
   ]
  },
  {
   "cell_type": "code",
   "execution_count": 182,
   "metadata": {},
   "outputs": [],
   "source": [
    "df_hechos_homicidios= df_hechos_homicidios[df_hechos_homicidios['pos x'] != '.']"
   ]
  },
  {
   "cell_type": "code",
   "execution_count": 183,
   "metadata": {},
   "outputs": [
    {
     "name": "stderr",
     "output_type": "stream",
     "text": [
      "C:\\Users\\Familia Velazco\\AppData\\Local\\Temp\\ipykernel_20652\\37181635.py:8: UserWarning: set_ticklabels() should only be used with a fixed number of ticks, i.e. after set_ticks() or using a FixedLocator.\n",
      "  ax[i].set_xticklabels(ax[i].get_xticklabels(),rotation= 30)\n",
      "C:\\Users\\Familia Velazco\\AppData\\Local\\Temp\\ipykernel_20652\\37181635.py:8: UserWarning: set_ticklabels() should only be used with a fixed number of ticks, i.e. after set_ticks() or using a FixedLocator.\n",
      "  ax[i].set_xticklabels(ax[i].get_xticklabels(),rotation= 30)\n",
      "C:\\Users\\Familia Velazco\\AppData\\Local\\Temp\\ipykernel_20652\\37181635.py:8: UserWarning: set_ticklabels() should only be used with a fixed number of ticks, i.e. after set_ticks() or using a FixedLocator.\n",
      "  ax[i].set_xticklabels(ax[i].get_xticklabels(),rotation= 30)\n"
     ]
    },
    {
     "data": {
      "image/png": "[encoded data removed]",
      "text/plain": [
       "<Figure size 800x1000 with 3 Axes>"
      ]
     },
     "metadata": {},
     "output_type": "display_data"
    }
   ],
   "source": [
    "columnas= ['TIPO_DE_CALLE', 'ACUSADO', 'VICTIMA']\n",
    "fig, ax = plt.subplots(nrows= 3, ncols= 1, figsize= (8,10))\n",
    "fig.subplots_adjust(hspace= 0.8)\n",
    "for i, col in enumerate(columnas):\n",
    "    sns.countplot(data=df_hechos_homicidios, x= col, ax= ax[i])\n",
    "    ax[i].set_title(col)\n",
    "    ax[i].set_xlabel('')\n",
    "    ax[i].set_xticklabels(ax[i].get_xticklabels(),rotation= 30)\n",
    "    "
   ]
  },
  {
   "cell_type": "markdown",
   "metadata": {},
   "source": [
    "Se puede Observar que no hay valores que sean iguales pero que se diferencien por tener letras mayusculas o minusculas. Tambien se pueden ser valore con \"SD\" lo cual significa que no tiene datos de ese registro"
   ]
  },
  {
   "cell_type": "code",
   "execution_count": 184,
   "metadata": {},
   "outputs": [],
   "source": [
    "df_hechos_homicidios = df_hechos_homicidios.rename(columns={'pos x': 'longitud', 'pos y':'latitud'}) # cambiar de nombre las clumnas pos x, pos y"
   ]
  },
  {
   "cell_type": "code",
   "execution_count": 185,
   "metadata": {},
   "outputs": [
    {
     "data": {
      "text/html": [
       "<div>\n",
       "<style scoped>\n",
       "    .dataframe tbody tr th:only-of-type {\n",
       "        vertical-align: middle;\n",
       "    }\n",
       "\n",
       "    .dataframe tbody tr th {\n",
       "        vertical-align: top;\n",
       "    }\n",
       "\n",
       "    .dataframe thead th {\n",
       "        text-align: right;\n",
       "    }\n",
       "</style>\n",
       "<table border=\"1\" class=\"dataframe\">\n",
       "  <thead>\n",
       "    <tr style=\"text-align: right;\">\n",
       "      <th></th>\n",
       "      <th>ID</th>\n",
       "      <th>N_VICTIMAS</th>\n",
       "      <th>FECHA</th>\n",
       "      <th>AAAA</th>\n",
       "      <th>MM</th>\n",
       "      <th>DD</th>\n",
       "      <th>HORA</th>\n",
       "      <th>HH</th>\n",
       "      <th>LUGAR_DEL_HECHO</th>\n",
       "      <th>TIPO_DE_CALLE</th>\n",
       "      <th>Calle</th>\n",
       "      <th>COMUNA</th>\n",
       "      <th>XY (CABA)</th>\n",
       "      <th>longitud</th>\n",
       "      <th>latitud</th>\n",
       "      <th>PARTICIPANTES</th>\n",
       "      <th>VICTIMA</th>\n",
       "      <th>ACUSADO</th>\n",
       "    </tr>\n",
       "  </thead>\n",
       "  <tbody>\n",
       "    <tr>\n",
       "      <th>0</th>\n",
       "      <td>2016-0001</td>\n",
       "      <td>1</td>\n",
       "      <td>2016-01-01</td>\n",
       "      <td>2016</td>\n",
       "      <td>1</td>\n",
       "      <td>1</td>\n",
       "      <td>04:00:00</td>\n",
       "      <td>4</td>\n",
       "      <td>AV PIEDRA BUENA Y AV FERNANDEZ DE LA CRUZ</td>\n",
       "      <td>AVENIDA</td>\n",
       "      <td>PIEDRA BUENA AV.</td>\n",
       "      <td>8</td>\n",
       "      <td>Point (98896.78238426 93532.43437792)</td>\n",
       "      <td>-58.47533969</td>\n",
       "      <td>-34.68757022</td>\n",
       "      <td>MOTO-AUTO</td>\n",
       "      <td>MOTO</td>\n",
       "      <td>AUTO</td>\n",
       "    </tr>\n",
       "    <tr>\n",
       "      <th>1</th>\n",
       "      <td>2016-0002</td>\n",
       "      <td>1</td>\n",
       "      <td>2016-01-02</td>\n",
       "      <td>2016</td>\n",
       "      <td>1</td>\n",
       "      <td>2</td>\n",
       "      <td>01:15:00</td>\n",
       "      <td>1</td>\n",
       "      <td>AV GRAL PAZ  Y AV DE LOS CORRALES</td>\n",
       "      <td>GRAL PAZ</td>\n",
       "      <td>PAZ, GRAL. AV.</td>\n",
       "      <td>9</td>\n",
       "      <td>Point (95832.05571093 95505.41641999)</td>\n",
       "      <td>-58.50877521</td>\n",
       "      <td>-34.66977709</td>\n",
       "      <td>AUTO-PASAJEROS</td>\n",
       "      <td>AUTO</td>\n",
       "      <td>PASAJEROS</td>\n",
       "    </tr>\n",
       "    <tr>\n",
       "      <th>2</th>\n",
       "      <td>2016-0003</td>\n",
       "      <td>1</td>\n",
       "      <td>2016-01-03</td>\n",
       "      <td>2016</td>\n",
       "      <td>1</td>\n",
       "      <td>3</td>\n",
       "      <td>07:00:00</td>\n",
       "      <td>7</td>\n",
       "      <td>AV ENTRE RIOS 2034</td>\n",
       "      <td>AVENIDA</td>\n",
       "      <td>ENTRE RIOS AV.</td>\n",
       "      <td>1</td>\n",
       "      <td>Point (106684.29090040 99706.57687843)</td>\n",
       "      <td>-58.39040293</td>\n",
       "      <td>-34.63189362</td>\n",
       "      <td>MOTO-AUTO</td>\n",
       "      <td>MOTO</td>\n",
       "      <td>AUTO</td>\n",
       "    </tr>\n",
       "  </tbody>\n",
       "</table>\n",
       "</div>"
      ],
      "text/plain": [
       "          ID  N_VICTIMAS      FECHA  AAAA  MM  DD      HORA HH  \\\n",
       "0  2016-0001           1 2016-01-01  2016   1   1  04:00:00  4   \n",
       "1  2016-0002           1 2016-01-02  2016   1   2  01:15:00  1   \n",
       "2  2016-0003           1 2016-01-03  2016   1   3  07:00:00  7   \n",
       "\n",
       "                             LUGAR_DEL_HECHO TIPO_DE_CALLE             Calle  \\\n",
       "0  AV PIEDRA BUENA Y AV FERNANDEZ DE LA CRUZ       AVENIDA  PIEDRA BUENA AV.   \n",
       "1          AV GRAL PAZ  Y AV DE LOS CORRALES      GRAL PAZ    PAZ, GRAL. AV.   \n",
       "2                         AV ENTRE RIOS 2034       AVENIDA    ENTRE RIOS AV.   \n",
       "\n",
       "   COMUNA                               XY (CABA)      longitud       latitud  \\\n",
       "0       8   Point (98896.78238426 93532.43437792)  -58.47533969  -34.68757022   \n",
       "1       9   Point (95832.05571093 95505.41641999)  -58.50877521  -34.66977709   \n",
       "2       1  Point (106684.29090040 99706.57687843)  -58.39040293  -34.63189362   \n",
       "\n",
       "    PARTICIPANTES VICTIMA    ACUSADO  \n",
       "0       MOTO-AUTO    MOTO       AUTO  \n",
       "1  AUTO-PASAJEROS    AUTO  PASAJEROS  \n",
       "2       MOTO-AUTO    MOTO       AUTO  "
      ]
     },
     "execution_count": 185,
     "metadata": {},
     "output_type": "execute_result"
    }
   ],
   "source": [
    "df_hechos_homicidios.head(3)"
   ]
  },
  {
   "cell_type": "code",
   "execution_count": 186,
   "metadata": {},
   "outputs": [
    {
     "name": "stdout",
     "output_type": "stream",
     "text": [
      "<class 'pandas.core.frame.DataFrame'>\n",
      "RangeIndex: 717 entries, 0 to 716\n",
      "Data columns (total 10 columns):\n",
      " #   Column               Non-Null Count  Dtype         \n",
      "---  ------               --------------  -----         \n",
      " 0   ID_hecho             717 non-null    object        \n",
      " 1   FECHA                717 non-null    datetime64[ns]\n",
      " 2   AAAA                 717 non-null    int64         \n",
      " 3   MM                   717 non-null    int64         \n",
      " 4   DD                   717 non-null    int64         \n",
      " 5   ROL                  717 non-null    object        \n",
      " 6   VICTIMA              717 non-null    object        \n",
      " 7   SEXO                 717 non-null    object        \n",
      " 8   EDAD                 717 non-null    object        \n",
      " 9   FECHA_FALLECIMIENTO  717 non-null    object        \n",
      "dtypes: datetime64[ns](1), int64(3), object(6)\n",
      "memory usage: 56.1+ KB\n"
     ]
    }
   ],
   "source": [
    "df_victimas_homicidios.info()"
   ]
  },
  {
   "cell_type": "markdown",
   "metadata": {},
   "source": [
    "El dataset de victimas 717 registros y ningun valor nulo"
   ]
  },
  {
   "cell_type": "code",
   "execution_count": 187,
   "metadata": {},
   "outputs": [
    {
     "data": {
      "text/html": [
       "<div>\n",
       "<style scoped>\n",
       "    .dataframe tbody tr th:only-of-type {\n",
       "        vertical-align: middle;\n",
       "    }\n",
       "\n",
       "    .dataframe tbody tr th {\n",
       "        vertical-align: top;\n",
       "    }\n",
       "\n",
       "    .dataframe thead th {\n",
       "        text-align: right;\n",
       "    }\n",
       "</style>\n",
       "<table border=\"1\" class=\"dataframe\">\n",
       "  <thead>\n",
       "    <tr style=\"text-align: right;\">\n",
       "      <th></th>\n",
       "      <th>ID_hecho</th>\n",
       "      <th>FECHA</th>\n",
       "      <th>AAAA</th>\n",
       "      <th>MM</th>\n",
       "      <th>DD</th>\n",
       "      <th>ROL</th>\n",
       "      <th>VICTIMA</th>\n",
       "      <th>SEXO</th>\n",
       "      <th>EDAD</th>\n",
       "      <th>FECHA_FALLECIMIENTO</th>\n",
       "    </tr>\n",
       "  </thead>\n",
       "  <tbody>\n",
       "    <tr>\n",
       "      <th>0</th>\n",
       "      <td>2016-0001</td>\n",
       "      <td>2016-01-01</td>\n",
       "      <td>2016</td>\n",
       "      <td>1</td>\n",
       "      <td>1</td>\n",
       "      <td>CONDUCTOR</td>\n",
       "      <td>MOTO</td>\n",
       "      <td>MASCULINO</td>\n",
       "      <td>19</td>\n",
       "      <td>2016-01-01 00:00:00</td>\n",
       "    </tr>\n",
       "    <tr>\n",
       "      <th>1</th>\n",
       "      <td>2016-0002</td>\n",
       "      <td>2016-01-02</td>\n",
       "      <td>2016</td>\n",
       "      <td>1</td>\n",
       "      <td>2</td>\n",
       "      <td>CONDUCTOR</td>\n",
       "      <td>AUTO</td>\n",
       "      <td>MASCULINO</td>\n",
       "      <td>70</td>\n",
       "      <td>2016-01-02 00:00:00</td>\n",
       "    </tr>\n",
       "    <tr>\n",
       "      <th>2</th>\n",
       "      <td>2016-0003</td>\n",
       "      <td>2016-01-03</td>\n",
       "      <td>2016</td>\n",
       "      <td>1</td>\n",
       "      <td>3</td>\n",
       "      <td>CONDUCTOR</td>\n",
       "      <td>MOTO</td>\n",
       "      <td>MASCULINO</td>\n",
       "      <td>30</td>\n",
       "      <td>2016-01-03 00:00:00</td>\n",
       "    </tr>\n",
       "    <tr>\n",
       "      <th>3</th>\n",
       "      <td>2016-0004</td>\n",
       "      <td>2016-01-10</td>\n",
       "      <td>2016</td>\n",
       "      <td>1</td>\n",
       "      <td>10</td>\n",
       "      <td>CONDUCTOR</td>\n",
       "      <td>MOTO</td>\n",
       "      <td>MASCULINO</td>\n",
       "      <td>18</td>\n",
       "      <td>SD</td>\n",
       "    </tr>\n",
       "    <tr>\n",
       "      <th>4</th>\n",
       "      <td>2016-0005</td>\n",
       "      <td>2016-01-21</td>\n",
       "      <td>2016</td>\n",
       "      <td>1</td>\n",
       "      <td>21</td>\n",
       "      <td>CONDUCTOR</td>\n",
       "      <td>MOTO</td>\n",
       "      <td>MASCULINO</td>\n",
       "      <td>29</td>\n",
       "      <td>2016-02-01 00:00:00</td>\n",
       "    </tr>\n",
       "  </tbody>\n",
       "</table>\n",
       "</div>"
      ],
      "text/plain": [
       "    ID_hecho      FECHA  AAAA  MM  DD        ROL VICTIMA       SEXO EDAD  \\\n",
       "0  2016-0001 2016-01-01  2016   1   1  CONDUCTOR    MOTO  MASCULINO   19   \n",
       "1  2016-0002 2016-01-02  2016   1   2  CONDUCTOR    AUTO  MASCULINO   70   \n",
       "2  2016-0003 2016-01-03  2016   1   3  CONDUCTOR    MOTO  MASCULINO   30   \n",
       "3  2016-0004 2016-01-10  2016   1  10  CONDUCTOR    MOTO  MASCULINO   18   \n",
       "4  2016-0005 2016-01-21  2016   1  21  CONDUCTOR    MOTO  MASCULINO   29   \n",
       "\n",
       "   FECHA_FALLECIMIENTO  \n",
       "0  2016-01-01 00:00:00  \n",
       "1  2016-01-02 00:00:00  \n",
       "2  2016-01-03 00:00:00  \n",
       "3                   SD  \n",
       "4  2016-02-01 00:00:00  "
      ]
     },
     "execution_count": 187,
     "metadata": {},
     "output_type": "execute_result"
    }
   ],
   "source": [
    "df_victimas_homicidios.head()"
   ]
  },
  {
   "cell_type": "code",
   "execution_count": 188,
   "metadata": {},
   "outputs": [
    {
     "name": "stderr",
     "output_type": "stream",
     "text": [
      "C:\\Users\\Familia Velazco\\AppData\\Local\\Temp\\ipykernel_20652\\3974099044.py:8: UserWarning: set_ticklabels() should only be used with a fixed number of ticks, i.e. after set_ticks() or using a FixedLocator.\n",
      "  ax[i].set_xticklabels(ax[i].get_xticklabels(),rotation= 25)\n",
      "C:\\Users\\Familia Velazco\\AppData\\Local\\Temp\\ipykernel_20652\\3974099044.py:8: UserWarning: set_ticklabels() should only be used with a fixed number of ticks, i.e. after set_ticks() or using a FixedLocator.\n",
      "  ax[i].set_xticklabels(ax[i].get_xticklabels(),rotation= 25)\n",
      "C:\\Users\\Familia Velazco\\AppData\\Local\\Temp\\ipykernel_20652\\3974099044.py:8: UserWarning: set_ticklabels() should only be used with a fixed number of ticks, i.e. after set_ticks() or using a FixedLocator.\n",
      "  ax[i].set_xticklabels(ax[i].get_xticklabels(),rotation= 25)\n"
     ]
    },
    {
     "data": {
      "image/png": "[encoded data removed]",
      "text/plain": [
       "<Figure size 800x1000 with 3 Axes>"
      ]
     },
     "metadata": {},
     "output_type": "display_data"
    }
   ],
   "source": [
    "columnas= ['ROL', 'VICTIMA', 'SEXO']\n",
    "fig, ax = plt.subplots(nrows= 3, ncols= 1, figsize= (8,10))\n",
    "fig.subplots_adjust(hspace= 0.8)\n",
    "for i, col in enumerate(columnas):\n",
    "    sns.countplot(data=df_victimas_homicidios, x= col, ax= ax[i])\n",
    "    ax[i].set_title(col)\n",
    "    ax[i].set_xlabel('')\n",
    "    ax[i].set_xticklabels(ax[i].get_xticklabels(),rotation= 25)"
   ]
  },
  {
   "cell_type": "markdown",
   "metadata": {},
   "source": [
    "Se puede observar que no hay valores que sean iguales pero que se diferencien por tener letras mayusculas o minusculas. Se puede apreciar que tambien hay varios valores \"SD\" lo cual significa que no hay datos"
   ]
  },
  {
   "cell_type": "code",
   "execution_count": 189,
   "metadata": {},
   "outputs": [
    {
     "name": "stdout",
     "output_type": "stream",
     "text": [
      "<class 'pandas.core.frame.DataFrame'>\n",
      "RangeIndex: 717 entries, 0 to 716\n",
      "Data columns (total 10 columns):\n",
      " #   Column               Non-Null Count  Dtype         \n",
      "---  ------               --------------  -----         \n",
      " 0   ID_hecho             717 non-null    object        \n",
      " 1   FECHA                717 non-null    datetime64[ns]\n",
      " 2   AAAA                 717 non-null    int64         \n",
      " 3   MM                   717 non-null    int64         \n",
      " 4   DD                   717 non-null    int64         \n",
      " 5   ROL                  717 non-null    object        \n",
      " 6   VICTIMA              717 non-null    object        \n",
      " 7   SEXO                 717 non-null    object        \n",
      " 8   EDAD                 717 non-null    object        \n",
      " 9   FECHA_FALLECIMIENTO  717 non-null    object        \n",
      "dtypes: datetime64[ns](1), int64(3), object(6)\n",
      "memory usage: 56.1+ KB\n"
     ]
    }
   ],
   "source": [
    "df_victimas_homicidios.info()"
   ]
  },
  {
   "cell_type": "code",
   "execution_count": 190,
   "metadata": {},
   "outputs": [
    {
     "name": "stdout",
     "output_type": "stream",
     "text": [
      "40\n",
      "51\n"
     ]
    }
   ],
   "source": [
    "Promedio_edad_M= round(df_victimas_homicidios[(df_victimas_homicidios['SEXO'] == 'MASCULINO') & (df_victimas_homicidios['EDAD'] != 'SD')]['EDAD'].mean())\n",
    "print(Promedio_edad_M)\n",
    "Promedio_edad_F= round(df_victimas_homicidios[(df_victimas_homicidios['SEXO'] == 'FEMENINO') & (df_victimas_homicidios['EDAD'] != 'SD')]['EDAD'].mean())\n",
    "print(Promedio_edad_F)"
   ]
  },
  {
   "cell_type": "code",
   "execution_count": 191,
   "metadata": {},
   "outputs": [],
   "source": [
    "df_victimas_homicidios.loc[(df_victimas_homicidios['SEXO'] == 'MASCULINO') & (df_victimas_homicidios['EDAD'] == 'SD'),'EDAD'] = Promedio_edad_M\n",
    "df_victimas_homicidios.loc[(df_victimas_homicidios['SEXO'] == 'FEMENINO') & (df_victimas_homicidios['EDAD'] == 'SD'),'EDAD'] = Promedio_edad_F"
   ]
  },
  {
   "cell_type": "code",
   "execution_count": 192,
   "metadata": {},
   "outputs": [],
   "source": [
    "df_victimas_homicidios= df_victimas_homicidios[df_victimas_homicidios['EDAD'] != 'SD']      # Se Omiten los registros con edad sin datos"
   ]
  },
  {
   "cell_type": "code",
   "execution_count": 193,
   "metadata": {},
   "outputs": [
    {
     "name": "stdout",
     "output_type": "stream",
     "text": [
      "<class 'pandas.core.frame.DataFrame'>\n",
      "Index: 711 entries, 0 to 716\n",
      "Data columns (total 10 columns):\n",
      " #   Column               Non-Null Count  Dtype         \n",
      "---  ------               --------------  -----         \n",
      " 0   ID_hecho             711 non-null    object        \n",
      " 1   FECHA                711 non-null    datetime64[ns]\n",
      " 2   AAAA                 711 non-null    int64         \n",
      " 3   MM                   711 non-null    int64         \n",
      " 4   DD                   711 non-null    int64         \n",
      " 5   ROL                  711 non-null    object        \n",
      " 6   VICTIMA              711 non-null    object        \n",
      " 7   SEXO                 711 non-null    object        \n",
      " 8   EDAD                 711 non-null    object        \n",
      " 9   FECHA_FALLECIMIENTO  711 non-null    object        \n",
      "dtypes: datetime64[ns](1), int64(3), object(6)\n",
      "memory usage: 61.1+ KB\n"
     ]
    }
   ],
   "source": [
    "df_victimas_homicidios.info()"
   ]
  },
  {
   "cell_type": "code",
   "execution_count": 198,
   "metadata": {},
   "outputs": [],
   "source": [
    "#df_hechos_homicidios"
   ]
  },
  {
   "cell_type": "markdown",
   "metadata": {},
   "source": [
    "################################################################################################################################"
   ]
  },
  {
   "cell_type": "markdown",
   "metadata": {},
   "source": [
    "Obtener datos de la API \"api-transporte.buenosaires.gob.ar\""
   ]
  },
  {
   "cell_type": "code",
   "execution_count": 20,
   "metadata": {},
   "outputs": [],
   "source": [
    "url = 'https://apitransporte.buenosaires.gob.ar/transito/v1/semaforos?'\n",
    "client_id = '01929d26b24941418358b80dd3ef7560'\n",
    "client_secret = '8c1CcaDdEF0142B09AEaDD63D2a7068E'\n",
    "\n",
    "parametros = {    \n",
    "    'client_id': client_id,\n",
    "    'client_secret': client_secret\n",
    "}"
   ]
  },
  {
   "cell_type": "code",
   "execution_count": 23,
   "metadata": {},
   "outputs": [],
   "source": [
    "respuesta = requests.get(url, params=parametros)"
   ]
  },
  {
   "cell_type": "code",
   "execution_count": 34,
   "metadata": {},
   "outputs": [],
   "source": [
    "if respuesta.status_code == 200:\n",
    "    datos = respuesta.json()['list']\n",
    "df= pd.DataFrame(datos)"
   ]
  },
  {
   "cell_type": "code",
   "execution_count": 35,
   "metadata": {},
   "outputs": [
    {
     "data": {
      "text/html": [
       "<div>\n",
       "<style scoped>\n",
       "    .dataframe tbody tr th:only-of-type {\n",
       "        vertical-align: middle;\n",
       "    }\n",
       "\n",
       "    .dataframe tbody tr th {\n",
       "        vertical-align: top;\n",
       "    }\n",
       "\n",
       "    .dataframe thead th {\n",
       "        text-align: right;\n",
       "    }\n",
       "</style>\n",
       "<table border=\"1\" class=\"dataframe\">\n",
       "  <thead>\n",
       "    <tr style=\"text-align: right;\">\n",
       "      <th></th>\n",
       "      <th>provider</th>\n",
       "      <th>type</th>\n",
       "      <th>code</th>\n",
       "      <th>name</th>\n",
       "      <th>status</th>\n",
       "      <th>latitude</th>\n",
       "      <th>longitude</th>\n",
       "    </tr>\n",
       "  </thead>\n",
       "  <tbody>\n",
       "    <tr>\n",
       "      <th>0</th>\n",
       "      <td>UTC API</td>\n",
       "      <td>Cruce Citar</td>\n",
       "      <td>3337</td>\n",
       "      <td>3337</td>\n",
       "      <td>Conectado</td>\n",
       "      <td>-34.576578</td>\n",
       "      <td>-58.431704</td>\n",
       "    </tr>\n",
       "    <tr>\n",
       "      <th>1</th>\n",
       "      <td>UTC API</td>\n",
       "      <td>Cruce Citar</td>\n",
       "      <td>3338</td>\n",
       "      <td>3338</td>\n",
       "      <td>Conectado</td>\n",
       "      <td>-34.583724</td>\n",
       "      <td>-58.423080</td>\n",
       "    </tr>\n",
       "    <tr>\n",
       "      <th>2</th>\n",
       "      <td>UTC API</td>\n",
       "      <td>Cruce Citar</td>\n",
       "      <td>3339</td>\n",
       "      <td>3339</td>\n",
       "      <td>Conectado</td>\n",
       "      <td>-34.577002</td>\n",
       "      <td>-58.430329</td>\n",
       "    </tr>\n",
       "    <tr>\n",
       "      <th>3</th>\n",
       "      <td>UTC API</td>\n",
       "      <td>Cruce Icarus</td>\n",
       "      <td>CLT#040317</td>\n",
       "      <td>Av. Córdoba - Fitz Roy</td>\n",
       "      <td>Conectado</td>\n",
       "      <td>-34.587578</td>\n",
       "      <td>-58.440181</td>\n",
       "    </tr>\n",
       "    <tr>\n",
       "      <th>4</th>\n",
       "      <td>UTC API</td>\n",
       "      <td>Cruce Icarus</td>\n",
       "      <td>CLT#040316</td>\n",
       "      <td>Av. Córdoba - Humbolt</td>\n",
       "      <td>Conectado</td>\n",
       "      <td>-34.588099</td>\n",
       "      <td>-58.439413</td>\n",
       "    </tr>\n",
       "    <tr>\n",
       "      <th>...</th>\n",
       "      <td>...</td>\n",
       "      <td>...</td>\n",
       "      <td>...</td>\n",
       "      <td>...</td>\n",
       "      <td>...</td>\n",
       "      <td>...</td>\n",
       "      <td>...</td>\n",
       "    </tr>\n",
       "    <tr>\n",
       "      <th>3136</th>\n",
       "      <td>UTC API</td>\n",
       "      <td>Cruce Icarus</td>\n",
       "      <td>CLT#060836</td>\n",
       "      <td>Av. Juan B. Alberdi - Carhué</td>\n",
       "      <td>Conectado</td>\n",
       "      <td>-34.659017</td>\n",
       "      <td>-58.512317</td>\n",
       "    </tr>\n",
       "    <tr>\n",
       "      <th>3137</th>\n",
       "      <td>UTC API</td>\n",
       "      <td>Cruce Sitra</td>\n",
       "      <td>ef7f6550-fef3-4c2a-b480-e9fad9b975c2</td>\n",
       "      <td>8609</td>\n",
       "      <td>Desconocido</td>\n",
       "      <td>-34.636992</td>\n",
       "      <td>-58.398477</td>\n",
       "    </tr>\n",
       "    <tr>\n",
       "      <th>3138</th>\n",
       "      <td>UTC API</td>\n",
       "      <td>Cruce Icarus</td>\n",
       "      <td>CLT#060830</td>\n",
       "      <td>Av. Juan B. Alberdi - Cafayate</td>\n",
       "      <td>Conectado</td>\n",
       "      <td>-34.655040</td>\n",
       "      <td>-58.506506</td>\n",
       "    </tr>\n",
       "    <tr>\n",
       "      <th>3139</th>\n",
       "      <td>UTC API</td>\n",
       "      <td>Cruce Icarus</td>\n",
       "      <td>CLT#080420</td>\n",
       "      <td>Av. San Martín - Av. Donato Álvarez - Dickman</td>\n",
       "      <td>Error de conexión</td>\n",
       "      <td>-34.602886</td>\n",
       "      <td>-58.464888</td>\n",
       "    </tr>\n",
       "    <tr>\n",
       "      <th>3140</th>\n",
       "      <td>UTC API</td>\n",
       "      <td>Cruce Icarus</td>\n",
       "      <td>CLT#080421</td>\n",
       "      <td>Av. San Martín - Camarones</td>\n",
       "      <td>Error de conexión</td>\n",
       "      <td>-34.603578</td>\n",
       "      <td>-58.462156</td>\n",
       "    </tr>\n",
       "  </tbody>\n",
       "</table>\n",
       "<p>3141 rows × 7 columns</p>\n",
       "</div>"
      ],
      "text/plain": [
       "     provider          type                                  code  \\\n",
       "0     UTC API   Cruce Citar                                  3337   \n",
       "1     UTC API   Cruce Citar                                  3338   \n",
       "2     UTC API   Cruce Citar                                  3339   \n",
       "3     UTC API  Cruce Icarus                            CLT#040317   \n",
       "4     UTC API  Cruce Icarus                            CLT#040316   \n",
       "...       ...           ...                                   ...   \n",
       "3136  UTC API  Cruce Icarus                            CLT#060836   \n",
       "3137  UTC API   Cruce Sitra  ef7f6550-fef3-4c2a-b480-e9fad9b975c2   \n",
       "3138  UTC API  Cruce Icarus                            CLT#060830   \n",
       "3139  UTC API  Cruce Icarus                            CLT#080420   \n",
       "3140  UTC API  Cruce Icarus                            CLT#080421   \n",
       "\n",
       "                                               name             status  \\\n",
       "0                                              3337          Conectado   \n",
       "1                                              3338          Conectado   \n",
       "2                                              3339          Conectado   \n",
       "3                            Av. Córdoba - Fitz Roy          Conectado   \n",
       "4                             Av. Córdoba - Humbolt          Conectado   \n",
       "...                                             ...                ...   \n",
       "3136                   Av. Juan B. Alberdi - Carhué          Conectado   \n",
       "3137                                           8609        Desconocido   \n",
       "3138                 Av. Juan B. Alberdi - Cafayate          Conectado   \n",
       "3139  Av. San Martín - Av. Donato Álvarez - Dickman  Error de conexión   \n",
       "3140                     Av. San Martín - Camarones  Error de conexión   \n",
       "\n",
       "       latitude  longitude  \n",
       "0    -34.576578 -58.431704  \n",
       "1    -34.583724 -58.423080  \n",
       "2    -34.577002 -58.430329  \n",
       "3    -34.587578 -58.440181  \n",
       "4    -34.588099 -58.439413  \n",
       "...         ...        ...  \n",
       "3136 -34.659017 -58.512317  \n",
       "3137 -34.636992 -58.398477  \n",
       "3138 -34.655040 -58.506506  \n",
       "3139 -34.602886 -58.464888  \n",
       "3140 -34.603578 -58.462156  \n",
       "\n",
       "[3141 rows x 7 columns]"
      ]
     },
     "execution_count": 35,
     "metadata": {},
     "output_type": "execute_result"
    }
   ],
   "source": [
    "df"
   ]
  }
 ],
 "metadata": {
  "kernelspec": {
   "display_name": "pi2-venv",
   "language": "python",
   "name": "python3"
  },
  "language_info": {
   "codemirror_mode": {
    "name": "ipython",
    "version": 3
   },
   "file_extension": ".py",
   "mimetype": "text/x-python",
   "name": "python",
   "nbconvert_exporter": "python",
   "pygments_lexer": "ipython3",
   "version": "3.11.1"
  }
 },
 "nbformat": 4,
 "nbformat_minor": 2
}
